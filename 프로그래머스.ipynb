{
  "nbformat": 4,
  "nbformat_minor": 0,
  "metadata": {
    "colab": {
      "provenance": [],
      "authorship_tag": "ABX9TyMODLEkHyS8aeHkSZUATQzc",
      "include_colab_link": true
    },
    "kernelspec": {
      "name": "python3",
      "display_name": "Python 3"
    },
    "language_info": {
      "name": "python"
    }
  },
  "cells": [
    {
      "cell_type": "markdown",
      "metadata": {
        "id": "view-in-github",
        "colab_type": "text"
      },
      "source": [
        "<a href=\"https://colab.research.google.com/github/seongkai102/programmers_history/blob/main/%ED%94%84%EB%A1%9C%EA%B7%B8%EB%9E%98%EB%A8%B8%EC%8A%A4.ipynb\" target=\"_parent\"><img src=\"https://colab.research.google.com/assets/colab-badge.svg\" alt=\"Open In Colab\"/></a>"
      ]
    },
    {
      "cell_type": "code",
      "execution_count": null,
      "metadata": {
        "colab": {
          "base_uri": "https://localhost:8080/"
        },
        "id": "mdz_2-rIf8Hw",
        "outputId": "9d2b3dd3-ec1e-4617-ea22-8e2d8b08c89a"
      },
      "outputs": [
        {
          "output_type": "execute_result",
          "data": {
            "text/plain": [
              "['Different', 'Same']"
            ]
          },
          "metadata": {},
          "execution_count": 1
        }
      ],
      "source": [
        "#pcce 기출문제 6번(가채점)\n",
        "def solution(numbers, our_score, score_list):\n",
        "    answer = []\n",
        "    for i in range(len(numbers)):\n",
        "        if our_score[i] == score_list[numbers[i]-1]: #our_score는 그대로 0~n까지 놔두고 score_list안에 있는 번호만 뽑아야함 그래서 numbers를 차례대로 슬라이싱 -1을 안해주면 다음거 부터 슬라이싱 됨 이후 계산\n",
        "            answer.append(\"Same\")\n",
        "        else:\n",
        "            answer.append(\"Different\")\n",
        "\n",
        "    return answer\n",
        "\n",
        "\n",
        "solution([3,4], [85, 93],[85, 92, 38, 93, 48, 85, 92, 56])"
      ]
    },
    {
      "cell_type": "code",
      "source": [
        "#pcce 기출문제 7번\n",
        "def func1(humidity, val_set):\n",
        "    if humidity < val_set:\n",
        "        return 3\n",
        "    return 1\n",
        "\n",
        "def func2(humidity):\n",
        "    if humidity >= 50:\n",
        "        return 0\n",
        "    elif humidity >= 40:\n",
        "        return 1\n",
        "    elif humidity >= 30:\n",
        "        return 2\n",
        "    elif humidity >= 20:\n",
        "        return 3\n",
        "    elif humidity >= 10:\n",
        "        return 4\n",
        "    else:\n",
        "        return 5\n",
        "\n",
        "\n",
        "def func3(humidity, val_set):\n",
        "    if humidity < val_set:\n",
        "        return 1\n",
        "    return 0\n",
        "\n",
        "\n",
        "def solution(mode_type, humidity, val_set):\n",
        "    answer = 0\n",
        "    if mode_type == \"auto\":\n",
        "        answer = func2(humidity)\n",
        "    elif mode_type == \"target\":\n",
        "        answer = func1(humidity, val_set)\n",
        "\n",
        "    elif mode_type == \"minimum\":\n",
        "        answer = func3(humidity, val_set)\n",
        "    return answer"
      ],
      "metadata": {
        "id": "FH2ou_jPLEWM"
      },
      "execution_count": null,
      "outputs": []
    },
    {
      "cell_type": "code",
      "source": [
        "#pcce 기출문제 8번\n",
        "def solution(storage, num):\n",
        "    clean_storage = []\n",
        "    clean_num = []\n",
        "    for i in range(len(storage)):\n",
        "        if storage[i] in clean_storage:\n",
        "            pos = clean_storage.index(storage[i])\n",
        "            clean_num[pos] += num[i]\n",
        "        else:\n",
        "            clean_storage.append(storage[i]) #위에 조건문이 작동하려면 이게 먼저 추가 되야함 (수)\n",
        "            clean_num.append(num[i])\n",
        "\n",
        "    # 아래 코드에는 틀린 부분이 없습니다.\n",
        "\n",
        "    max_num = max(clean_num)\n",
        "    answer = clean_storage[clean_num.index(max_num)]\n",
        "    return answer"
      ],
      "metadata": {
        "id": "-6AxKPDRLSpr"
      },
      "execution_count": null,
      "outputs": []
    },
    {
      "cell_type": "code",
      "source": [
        "#문자열 반복해 출력하기\n",
        "str, n = input().strip().split(' ')\n",
        "n = int(n)\n",
        "print(str * n)"
      ],
      "metadata": {
        "colab": {
          "base_uri": "https://localhost:8080/"
        },
        "id": "qpeYtVmHK3Us",
        "outputId": "9fb9aca1-fa43-404a-d6bf-f2b5554d0ce3"
      },
      "execution_count": null,
      "outputs": [
        {
          "output_type": "stream",
          "name": "stdout",
          "text": [
            "str 5\n",
            "strstrstrstrstr\n"
          ]
        }
      ]
    },
    {
      "cell_type": "code",
      "source": [
        "#대소문자 바꿔서 출력\n",
        "str = input().swapcase()\n",
        "print(str)"
      ],
      "metadata": {
        "colab": {
          "base_uri": "https://localhost:8080/"
        },
        "id": "A8iEeDvaLkez",
        "outputId": "6afd073d-0100-40a1-de79-6d037e8dc8ce"
      },
      "execution_count": null,
      "outputs": [
        {
          "output_type": "stream",
          "name": "stdout",
          "text": [
            "aBcD\n",
            "AbCd\n"
          ]
        }
      ]
    },
    {
      "cell_type": "code",
      "source": [
        "#특수문자 출력\n",
        "print('!@#$%^&*(\\\\'\"<>?:;')"
      ],
      "metadata": {
        "colab": {
          "base_uri": "https://localhost:8080/"
        },
        "id": "JIpC8GkzL6D0",
        "outputId": "45fce9e7-7173-4e56-8a84-1333ab6b0963"
      },
      "execution_count": null,
      "outputs": [
        {
          "output_type": "stream",
          "name": "stdout",
          "text": [
            "!@#$%^&*('\"<>?:;\n"
          ]
        }
      ]
    },
    {
      "cell_type": "code",
      "source": [
        "#문자열 붙히기\n",
        "str1, str2 = input().strip().split(' ')\n",
        "print(str1 + str2)"
      ],
      "metadata": {
        "colab": {
          "base_uri": "https://localhost:8080/"
        },
        "id": "Rpl-j5yYMfFw",
        "outputId": "2e17ba1a-cf25-4348-80c8-e8a64cd10199"
      },
      "execution_count": null,
      "outputs": [
        {
          "output_type": "stream",
          "name": "stdout",
          "text": [
            "str str\n",
            "strstr\n"
          ]
        }
      ]
    },
    {
      "cell_type": "code",
      "source": [
        "#홀짝 구분\n",
        "a = int(input())\n",
        "if a % 2 == 0:\n",
        "    print(f'{a} is even')\n",
        "else:\n",
        "    print(f'{a} is odd')"
      ],
      "metadata": {
        "colab": {
          "base_uri": "https://localhost:8080/"
        },
        "id": "KUBFiuvzNNcN",
        "outputId": "eb4ed4bb-6396-4ae6-dc07-bad2aa724f93"
      },
      "execution_count": null,
      "outputs": [
        {
          "output_type": "stream",
          "name": "stdout",
          "text": [
            "100\n",
            "100 is even\n"
          ]
        }
      ]
    },
    {
      "cell_type": "code",
      "source": [
        "#문자열 겹쳐쓰기\n",
        "def solution(my_string, overwrite_string, s):\n",
        "    new_string = my_string[:s] + overwrite_string + my_string[s+len(overwrite_string):] #시작+중간+끝\n",
        "    return new_string\n",
        "\n",
        "# 예시 실행\n",
        "print(solution(\"He11oWor1d\", \"lloWorl\", 2))"
      ],
      "metadata": {
        "colab": {
          "base_uri": "https://localhost:8080/"
        },
        "id": "v9FtzwInOHVS",
        "outputId": "5d883923-8aa9-4bb7-b200-ad78838a6c88"
      },
      "execution_count": null,
      "outputs": [
        {
          "output_type": "stream",
          "name": "stdout",
          "text": [
            "HelloWorld\n"
          ]
        }
      ]
    },
    {
      "cell_type": "code",
      "source": [
        "#문자열 섞기\n",
        "\n",
        "def solution(str1, str2):\n",
        "    answer = str()\n",
        "    for i in range(len(str1)):\n",
        "      answer = answer + str1[i] + str2[i]\n",
        "    return answer\n",
        "\n",
        "print(solution('aaaa','bbbb'))\n"
      ],
      "metadata": {
        "colab": {
          "base_uri": "https://localhost:8080/",
          "height": 112
        },
        "id": "u7z1vVfE2tkf",
        "outputId": "63d2e3bc-850c-4ec4-d062-19f8c6264274"
      },
      "execution_count": null,
      "outputs": [
        {
          "output_type": "error",
          "ename": "IndentationError",
          "evalue": "expected an indented block after 'for' statement on line 13 (<ipython-input-2-5cd0ddd011bf>, line 14)",
          "traceback": [
            "\u001b[0;36m  File \u001b[0;32m\"<ipython-input-2-5cd0ddd011bf>\"\u001b[0;36m, line \u001b[0;32m14\u001b[0m\n\u001b[0;31m    answer = answer + str1[i] + str2[i]\u001b[0m\n\u001b[0m    ^\u001b[0m\n\u001b[0;31mIndentationError\u001b[0m\u001b[0;31m:\u001b[0m expected an indented block after 'for' statement on line 13\n"
          ]
        }
      ]
    },
    {
      "cell_type": "code",
      "source": [
        "#문자 리스트를 문자열로 변환\n",
        "\n",
        "def solution(arr): return ''.join(a)\n",
        "\n",
        "a = [\"a\",\"b\",\"c\"]\n",
        "\n",
        "print(solution(a))"
      ],
      "metadata": {
        "colab": {
          "base_uri": "https://localhost:8080/"
        },
        "id": "0KAoNwkq4Ehq",
        "outputId": "4b64609b-bbe9-4e99-97b0-c4de17edb2cb"
      },
      "execution_count": null,
      "outputs": [
        {
          "output_type": "stream",
          "name": "stdout",
          "text": [
            "abc\n"
          ]
        }
      ]
    },
    {
      "cell_type": "code",
      "source": [
        "# 더크게 합치기\n",
        "def solution(a, b):\n",
        "  ll = [int(str(a)+str(b)), int(str(b)+str(a))]\n",
        "  return max(ll)\n",
        "\n",
        "print(solution(89,8))"
      ],
      "metadata": {
        "colab": {
          "base_uri": "https://localhost:8080/"
        },
        "id": "S1-u-d9W5dKx",
        "outputId": "021d7e21-0c05-466a-e11c-8031489291e6"
      },
      "execution_count": null,
      "outputs": [
        {
          "output_type": "stream",
          "name": "stdout",
          "text": [
            "898\n"
          ]
        }
      ]
    },
    {
      "cell_type": "code",
      "source": [
        "def s(a,b):\n",
        "    concat_value = int(f'{a}{b}')\n",
        "\n",
        "    product_value = 2 * a * b\n",
        "\n",
        "    return max(concat_value, product_value)\n",
        "print(s(2,91))"
      ],
      "metadata": {
        "colab": {
          "base_uri": "https://localhost:8080/"
        },
        "id": "Xggi_abx5gbQ",
        "outputId": "b2506691-5dce-4e54-a3b7-f9e597b236bf"
      },
      "execution_count": null,
      "outputs": [
        {
          "output_type": "stream",
          "name": "stdout",
          "text": [
            "364\n"
          ]
        }
      ]
    },
    {
      "cell_type": "code",
      "source": [
        "#n의 배수\n",
        "def solution(num, n):\n",
        "    answer = 1 if num % n == 0 else 0\n",
        "    return answer\n",
        "\n",
        "print(solution(34, 3))\n",
        "\n",
        "# num%n은 int 값이지만, 이를 not() 함수 안에 넣으면 int가 bool로 해석되어서 num%n이 0이면 False로, 0이 아니면 True로 해석됩니다"
      ],
      "metadata": {
        "colab": {
          "base_uri": "https://localhost:8080/"
        },
        "id": "ncTmxBcensj4",
        "outputId": "e86f09f1-7719-4717-94e7-d59e23fdb533"
      },
      "execution_count": null,
      "outputs": [
        {
          "output_type": "stream",
          "name": "stdout",
          "text": [
            "0\n"
          ]
        }
      ]
    },
    {
      "cell_type": "code",
      "source": [
        "def solution(n):\n",
        "    if n % 2 == 0:\n",
        "        a = [i**2 for i in range(1,n+1) if i % 2 == 0]\n",
        "        return sum(a)\n",
        "    else:\n",
        "        a = [i for i in range(1, n+1) if i % 2 != 0]\n",
        "        return sum(a)\n",
        "\n",
        "n = int(input())\n",
        "print(solution(n))\n"
      ],
      "metadata": {
        "id": "LBRfX995obPO"
      },
      "execution_count": null,
      "outputs": []
    },
    {
      "cell_type": "code",
      "source": [
        "def solution(ineq, eq, n, m):\n",
        "    return int(eval(f'{n} {ineq}{eq} {m}'.replace('!','')))\n",
        "    #문자열로 된 표현식을 실행하고 그 결과를 반환"
      ],
      "metadata": {
        "id": "0cLQYyw89DgC"
      },
      "execution_count": null,
      "outputs": []
    },
    {
      "cell_type": "code",
      "source": [
        "def solution(ineq, eq, n, m):\n",
        "    if ineq == '<' and eq == '=':\n",
        "      return int(n <= m)\n",
        "    if ineq == '>' and eq == '=':\n",
        "      return int(n >= m)\n",
        "    if ineq == '<' and eq == '!':\n",
        "      return int(n < m)\n",
        "    else:\n",
        "      return int(n > m)\n",
        "\n",
        "solution('<','=',20,50)"
      ],
      "metadata": {
        "id": "brqAy67l8W3w"
      },
      "execution_count": null,
      "outputs": []
    },
    {
      "cell_type": "code",
      "source": [
        "def solution(a, b, flag):\n",
        "    answer = 0\n",
        "\n",
        "    if (flag == True):\n",
        "        answer = a + b\n",
        "    else :\n",
        "        answer = a - b\n",
        "    return answer"
      ],
      "metadata": {
        "colab": {
          "base_uri": "https://localhost:8080/"
        },
        "id": "XS94f_7s-aDg",
        "outputId": "f1370dca-626c-44ce-e2ac-b80058f89eac"
      },
      "execution_count": null,
      "outputs": [
        {
          "output_type": "stream",
          "name": "stdout",
          "text": [
            "3\n",
            "-11\n"
          ]
        }
      ]
    },
    {
      "cell_type": "code",
      "source": [
        "def solution(code):\n",
        "  mode = 0\n",
        "  ret = \"\"\n",
        "  for i in range(len(code)):\n",
        "\n",
        "    if code[i] == '1':\n",
        "      mode = 1-mode\n",
        "    else:\n",
        "      if mode == 0 and i % 2 == 0:\n",
        "        ret = ret + code[i]\n",
        "      elif mode == 1 and i % 2 != 0:\n",
        "        ret = ret + code[i]\n",
        "\n",
        "  if ret == \"\":\n",
        "      return  \"EMPTY\"\n",
        "\n",
        "  return ret\n",
        "\n",
        "solution(\"abc1abc1abc\")\n",
        "\n",
        "##### 숏 코딩\n",
        "\n",
        "\n",
        "def solution(code):\n",
        "    return \"\".join(code.split(\"1\"))[::2] or \"EMPTY\""
      ],
      "metadata": {
        "colab": {
          "base_uri": "https://localhost:8080/",
          "height": 36
        },
        "id": "uHdPyujd-aiN",
        "outputId": "dc0ac8d7-be81-4086-e4c6-9d4e0d20be3d"
      },
      "execution_count": null,
      "outputs": [
        {
          "output_type": "execute_result",
          "data": {
            "text/plain": [
              "'acbac'"
            ],
            "application/vnd.google.colaboratory.intrinsic+json": {
              "type": "string"
            }
          },
          "metadata": {},
          "execution_count": 64
        }
      ]
    },
    {
      "cell_type": "code",
      "source": [
        "def solution(s):\n",
        "    s = s.lower()\n",
        "    p,y = 0,0\n",
        "    for i in s:\n",
        "        if i=='p':\n",
        "            p+=1\n",
        "        elif i=='y':\n",
        "            y+=1\n",
        "\n",
        "\n",
        "    return 'true' if (p==0 and y==0) or p==y else 'false'\n",
        "\n",
        "solution('asdasdsadsadsa')"
      ],
      "metadata": {
        "id": "y3aOTSUXiDua",
        "colab": {
          "base_uri": "https://localhost:8080/",
          "height": 35
        },
        "outputId": "78e71c04-0828-4f39-895d-ecf4a4787c6c"
      },
      "execution_count": 6,
      "outputs": [
        {
          "output_type": "execute_result",
          "data": {
            "text/plain": [
              "'true'"
            ],
            "application/vnd.google.colaboratory.intrinsic+json": {
              "type": "string"
            }
          },
          "metadata": {},
          "execution_count": 6
        }
      ]
    },
    {
      "cell_type": "code",
      "source": [
        "#등차수열의 특정한 항만 더하기\n",
        "def solution(a, d, included):\n",
        "    ss = [a+(i*d) for i in range(len(included))]\n",
        "    bb = [ss[i] for i in range(len(ss)) if included[i] == 'true']\n",
        "    return sum(bb)\n",
        "\n",
        "solution(7,1,\t['false', 'false', 'false', 'true', 'false', 'false', 'false'])"
      ],
      "metadata": {
        "colab": {
          "base_uri": "https://localhost:8080/"
        },
        "id": "UL8Ds6CRaEzX",
        "outputId": "d82a1a1c-da11-410a-e0ef-9b937f8d53f1"
      },
      "execution_count": 4,
      "outputs": [
        {
          "output_type": "execute_result",
          "data": {
            "text/plain": [
              "10"
            ]
          },
          "metadata": {},
          "execution_count": 4
        }
      ]
    },
    {
      "cell_type": "code",
      "source": [
        "def solution(a, b, c):\n",
        "    return (a + b + c) * (a**2 + b**2 + c**2) * (a**3 + b**3 + c**3) if a == b == c else (a + b + c) * (a**2 + b**2 + c**2) if a == b or b == c or a == c else a + b + c"
      ],
      "metadata": {
        "id": "2DQrL0vh6c1E"
      },
      "execution_count": null,
      "outputs": []
    },
    {
      "cell_type": "code",
      "source": [
        "def solution(num_list):\n",
        "    a = 1; [a:=a*i for i in num_list]\n",
        "    return int(a<(sum(num_list)**2))"
      ],
      "metadata": {
        "id": "yW76WqYe2DTL"
      },
      "execution_count": 10,
      "outputs": []
    },
    {
      "cell_type": "code",
      "source": [
        "def solution(c):\n",
        "    a,b = '',''; [a:= a+str(i) for i in c if i%2!=0]; [b:= b+str(i) for i in c if i%2==0]\n",
        "    return int(f'{int(a)+int(b)}')\n",
        "\n",
        "solution([3, 4, 5, 2, 1])"
      ],
      "metadata": {
        "colab": {
          "base_uri": "https://localhost:8080/",
          "height": 35
        },
        "id": "liLwgG3f3Abi",
        "outputId": "47cea04d-1972-4255-866b-2ec0248bc860"
      },
      "execution_count": 13,
      "outputs": [
        {
          "output_type": "execute_result",
          "data": {
            "text/plain": [
              "'393'"
            ],
            "application/vnd.google.colaboratory.intrinsic+json": {
              "type": "string"
            }
          },
          "metadata": {},
          "execution_count": 13
        }
      ]
    },
    {
      "cell_type": "code",
      "source": [
        "def solution(a):\n",
        "    b = a[-1]-a[-2] < a[-1] and a[-1] >a[-2]\n",
        "    c = a+[a[-1]-a[-2]] if b else a+[a[-1]*2]\n",
        "    return c\n",
        "\n",
        "solution([2, 1, 6])"
      ],
      "metadata": {
        "colab": {
          "base_uri": "https://localhost:8080/"
        },
        "id": "eECkMCo559SM",
        "outputId": "c35aaf48-8419-45fb-a2dd-0229a422885b"
      },
      "execution_count": 17,
      "outputs": [
        {
          "output_type": "execute_result",
          "data": {
            "text/plain": [
              "[2, 1, 6, 5]"
            ]
          },
          "metadata": {},
          "execution_count": 17
        }
      ]
    },
    {
      "cell_type": "code",
      "source": [
        "def solution(n, control):\n",
        "    n = [n:=(n+(int(i=='w')*1)+(int(i=='s')*(-1))+(int(i=='d')*10)+(int(i=='a')*(-10))) for i in control]\n",
        "    return n[-1]\n",
        "\n",
        "solution(0, \"wsdawsdassw\")"
      ],
      "metadata": {
        "colab": {
          "base_uri": "https://localhost:8080/"
        },
        "id": "ERzpW96Z59PP",
        "outputId": "91bf62ac-7c77-4a0f-9e34-3ab019aa568a"
      },
      "execution_count": 22,
      "outputs": [
        {
          "output_type": "execute_result",
          "data": {
            "text/plain": [
              "-1"
            ]
          },
          "metadata": {},
          "execution_count": 22
        }
      ]
    },
    {
      "cell_type": "code",
      "source": [
        "def solution(numLog):\n",
        "    return ''.join(['w' if numLog[i] - numLog[i-1] == 1 else\n",
        "                    's' if numLog[i] - numLog[i-1] == -1 else\n",
        "                    'd' if numLog[i] - numLog[i-1] == 10 else\n",
        "                    'a' for i in range(1, len(numLog))])\n"
      ],
      "metadata": {
        "id": "DfO4_Rhn59EL"
      },
      "execution_count": null,
      "outputs": []
    },
    {
      "cell_type": "code",
      "source": [
        "def solution(arr, b):\n",
        "    for i,j in b:\n",
        "      arr[i],arr[j] = arr[j],arr[i]\n",
        "    return arr\n",
        "\n",
        "\n",
        "solution([0, 1, 2, 3, 4], [[0, 3],[1, 2],[1, 4]])"
      ],
      "metadata": {
        "colab": {
          "base_uri": "https://localhost:8080/"
        },
        "id": "aGaHyIWbCwhs",
        "outputId": "8fe36c4b-d158-4b35-9dcc-79de729ff04d"
      },
      "execution_count": 26,
      "outputs": [
        {
          "output_type": "execute_result",
          "data": {
            "text/plain": [
              "[3, 4, 1, 0, 2]"
            ]
          },
          "metadata": {},
          "execution_count": 26
        }
      ]
    },
    {
      "cell_type": "code",
      "source": [
        "def solution(arr, queries):\n",
        "    result = []\n",
        "\n",
        "    for s, e, k in queries:\n",
        "        candidates = [x for x in arr[s:e+1] if x > k]\n",
        "\n",
        "        if candidates:\n",
        "            result.append(min(candidates))\n",
        "        else:\n",
        "            result.append(-1)\n",
        "\n",
        "    return result\n",
        "\n",
        "\n",
        "solution([0, 1, 2, 4, 3], [[0, 4, 2],[0, 3, 2],[0, 2, 2]])"
      ],
      "metadata": {
        "colab": {
          "base_uri": "https://localhost:8080/"
        },
        "id": "3dPL9OBPCwey",
        "outputId": "db590a59-5a2f-4507-d09b-e36352a70bd0"
      },
      "execution_count": 1,
      "outputs": [
        {
          "output_type": "execute_result",
          "data": {
            "text/plain": [
              "[3, 4, -1]"
            ]
          },
          "metadata": {},
          "execution_count": 1
        }
      ]
    },
    {
      "cell_type": "code",
      "source": [
        "def solution(arr, queries):\n",
        "    a = arr.copy()\n",
        "    for s, e, k in queries:\n",
        "        for i in range(s, e + 1):\n",
        "            if i % k == 0:\n",
        "                a[i] += 1\n",
        "    return a\n",
        "\n",
        "solution([0, 1, 2, 4, 3], [[0, 4, 1],[0, 3, 2],[0, 3, 3]])"
      ],
      "metadata": {
        "colab": {
          "base_uri": "https://localhost:8080/"
        },
        "id": "UXZRNOH0CwcH",
        "outputId": "a7c0f5ad-471d-41da-8326-003ac406f6c8"
      },
      "execution_count": 34,
      "outputs": [
        {
          "output_type": "execute_result",
          "data": {
            "text/plain": [
              "[3, 2, 4, 6, 4]"
            ]
          },
          "metadata": {},
          "execution_count": 34
        }
      ]
    },
    {
      "cell_type": "code",
      "source": [
        "def solution(l, r):\n",
        "    answer = [i for i in range(l, r + 1) if set(str(i)) <= {\"0\", \"5\"}]\n",
        "    return answer if answer else [-1]\n",
        "\n",
        "\n",
        "solution(5, 555)"
      ],
      "metadata": {
        "colab": {
          "base_uri": "https://localhost:8080/"
        },
        "id": "g44-NkOrCcEZ",
        "outputId": "d699be03-1294-4c68-efe0-64c477981972"
      },
      "execution_count": 48,
      "outputs": [
        {
          "output_type": "execute_result",
          "data": {
            "text/plain": [
              "[5, 50, 55, 500, 505, 550, 555]"
            ]
          },
          "metadata": {},
          "execution_count": 48
        }
      ]
    },
    {
      "cell_type": "code",
      "source": [
        "set(str(55)) <= {\"0\", \"5\"} #set은 문자열도 중복이면 없애줌 <= 로 인해 {0,5}의 부분집합인지 알수 있음\n",
        "\n",
        "if list(): #비어있으면 False를 반환함 아님 True"
      ],
      "metadata": {
        "colab": {
          "base_uri": "https://localhost:8080/"
        },
        "id": "ypem4qpIJRR-",
        "outputId": "189f2eba-383e-47d1-f422-2bc89fd5a9a3"
      },
      "execution_count": 51,
      "outputs": [
        {
          "output_type": "execute_result",
          "data": {
            "text/plain": [
              "True"
            ]
          },
          "metadata": {},
          "execution_count": 51
        }
      ]
    },
    {
      "cell_type": "code",
      "source": [
        "def solution(start_num, end_num):\n",
        "    return [i for i in range(start_num,end_num+1)]\n",
        "\n",
        "solution(3, 10)"
      ],
      "metadata": {
        "colab": {
          "base_uri": "https://localhost:8080/"
        },
        "id": "lkj-LMG5JclT",
        "outputId": "0942c5ec-8618-491e-dbbd-528313b7af99"
      },
      "execution_count": 3,
      "outputs": [
        {
          "output_type": "execute_result",
          "data": {
            "text/plain": [
              "[3, 4, 5, 6, 7, 8, 9, 10]"
            ]
          },
          "metadata": {},
          "execution_count": 3
        }
      ]
    },
    {
      "cell_type": "code",
      "source": [
        "def solution(n):\n",
        "    a = [n]\n",
        "\n",
        "    while  a[-1] != 1:\n",
        "        if n % 2 == 0 :\n",
        "            n = n//2\n",
        "            a.append(n)\n",
        "        else:\n",
        "            n = 3*n+1\n",
        "            a.append(n)\n",
        "\n",
        "    return a\n",
        "\n",
        "solution(10)"
      ],
      "metadata": {
        "colab": {
          "base_uri": "https://localhost:8080/"
        },
        "id": "ZlT3Go9zyoeM",
        "outputId": "cf77bd98-7cbc-4a3c-dfda-58935e003c96"
      },
      "execution_count": 2,
      "outputs": [
        {
          "output_type": "execute_result",
          "data": {
            "text/plain": [
              "[10, 5, 16, 8, 4, 2, 1]"
            ]
          },
          "metadata": {},
          "execution_count": 2
        }
      ]
    },
    {
      "cell_type": "code",
      "source": [],
      "metadata": {
        "id": "FRnibqgJyobS"
      },
      "execution_count": null,
      "outputs": []
    },
    {
      "cell_type": "code",
      "source": [],
      "metadata": {
        "id": "7Co2b3Liy8Eg"
      },
      "execution_count": null,
      "outputs": []
    },
    {
      "cell_type": "code",
      "source": [],
      "metadata": {
        "id": "fpnGD04my8CV"
      },
      "execution_count": null,
      "outputs": []
    },
    {
      "cell_type": "code",
      "source": [],
      "metadata": {
        "id": "l7uC7My5y7_b"
      },
      "execution_count": null,
      "outputs": []
    },
    {
      "cell_type": "code",
      "source": [],
      "metadata": {
        "id": "s7UcnAGPy788"
      },
      "execution_count": null,
      "outputs": []
    },
    {
      "cell_type": "code",
      "source": [],
      "metadata": {
        "id": "bbevaKvtyoUr"
      },
      "execution_count": null,
      "outputs": []
    },
    {
      "cell_type": "code",
      "source": [],
      "metadata": {
        "id": "8iAlIqR5yoOc"
      },
      "execution_count": null,
      "outputs": []
    },
    {
      "cell_type": "code",
      "source": [],
      "metadata": {
        "id": "NPpRjMmWyoKi"
      },
      "execution_count": null,
      "outputs": []
    }
  ]
}